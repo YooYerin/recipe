{
 "cells": [
  {
   "cell_type": "code",
   "execution_count": null,
   "metadata": {},
   "outputs": [],
   "source": [
    "import requests\n",
    "from bs4 import BeautifulSoup\n",
    "import json\n",
    "import urllib\n",
    "import pandas as pd #데이터 프레임\n",
    "import re\n",
    "import numpy as np\n"
   ]
  },
  {
   "cell_type": "code",
   "execution_count": null,
   "metadata": {},
   "outputs": [],
   "source": [
    "## 해먹남녀\n",
    "def get_recipe3(have_list,page_num=2):\n",
    "    have_list1 = \"+\".join(have_list) ## \"양파 가지\"\n",
    "    have_list2 = \" \".join(have_list)\n",
    "    url = 'https://www.haemukja.com/recipes?utf8=%E2%9C%93&sort=rlv&name={}'.format(have_list1)\n",
    "    result_list = []\n",
    "    \n",
    "    for i in range(page_num):\n",
    "        params = {\n",
    "            'name': have_list2,\n",
    "            'page': 1,\n",
    "            'sort': 'rlv'\n",
    "         }\n",
    "\n",
    "        resp = requests.get(url, params = params)\n",
    "        resp\n",
    "\n",
    "        soup = BeautifulSoup(resp.text)\n",
    "\n",
    "        titles = soup.select('ul.lst_recipe>li>p>a')\n",
    "\n",
    "        for a_tag in titles:\n",
    "\n",
    "            recipe_url = 'https://www.haemukja.com'+ a_tag.get('href')\n",
    "            detail_resp = requests.get(recipe_url)\n",
    "            html = BeautifulSoup(detail_resp.text)\n",
    "\n",
    "            prd_time = str(html.select('div.top>dl>dd'))\n",
    "            prd_time = re.sub('<.+?>', '', prd_time, 0).strip()\n",
    "            prd_sources = str(html.select('div.btm>ul>li'))\n",
    "            prd_sources=re.sub('<.+?>', '', prd_sources,0)\n",
    "\n",
    "            result_list.append({\n",
    "                'title': (a_tag.text.split('\\n')[1]).strip(),\n",
    "                'url': recipe_url,\n",
    "                'time':prd_time.replace('[','').replace(']','').split(',')[0],\n",
    "                'level': 'null',\n",
    "                'ingredient': prd_sources.replace('[','').replace(']','').split(',')\n",
    "            })       \n",
    "\n",
    "        return result_list \n"
   ]
  }
 ],
 "metadata": {
  "kernelspec": {
   "display_name": "Python 3",
   "language": "python",
   "name": "python3"
  },
  "language_info": {
   "codemirror_mode": {
    "name": "ipython",
    "version": 3
   },
   "file_extension": ".py",
   "mimetype": "text/x-python",
   "name": "python",
   "nbconvert_exporter": "python",
   "pygments_lexer": "ipython3",
   "version": "3.8.3"
  }
 },
 "nbformat": 4,
 "nbformat_minor": 4
}
